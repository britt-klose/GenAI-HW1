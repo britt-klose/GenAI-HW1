{
  "nbformat": 4,
  "nbformat_minor": 0,
  "metadata": {
    "colab": {
      "provenance": [],
      "authorship_tag": "ABX9TyMzfij1M7O4wAkSoaKLn8vF",
      "include_colab_link": true
    },
    "kernelspec": {
      "name": "python3",
      "display_name": "Python 3"
    },
    "language_info": {
      "name": "python"
    }
  },
  "cells": [
    {
      "cell_type": "markdown",
      "metadata": {
        "id": "view-in-github",
        "colab_type": "text"
      },
      "source": [
        "<a href=\"https://colab.research.google.com/github/britt-klose/GenAI-HW1/blob/main/H1_Problem2.ipynb\" target=\"_parent\"><img src=\"https://colab.research.google.com/assets/colab-badge.svg\" alt=\"Open In Colab\"/></a>"
      ]
    },
    {
      "cell_type": "markdown",
      "source": [
        "Problem 1: Extending the model to include a third category \"coastline\""
      ],
      "metadata": {
        "id": "AQbjGzuGLiLk"
      }
    },
    {
      "cell_type": "code",
      "source": [
        "#@title Importing Libraries\n",
        "\n",
        "# numerical operations\n",
        "import numpy as np\n",
        "\n",
        "# used for plotting\n",
        "import matplotlib.pyplot as plt\n",
        "\n",
        "# used for calculating distances\n",
        "from scipy.spatial import distance"
      ],
      "metadata": {
        "id": "UvQRQ4KhLg1f"
      },
      "execution_count": 1,
      "outputs": []
    },
    {
      "cell_type": "code",
      "source": [
        "#@title Defining Known Land Mass Points\n",
        "\n",
        "# A dictionary where each key is a continent and the value is a list of tuples\n",
        "# representing points on that continent.\n",
        "\n",
        "land_points = {\n",
        "    'South America': [(-30, -60), (-15, -50), (0, -45), (15, -30), (30, -20)],\n",
        "    'Australia': [(50, 10), (55, 0), (60, 10), (65, 20), (70, 30)],\n",
        "    'Asia': [(20, 60), (30, 70), (40, 80), (50, 90), (60, 100)],\n",
        "    'Africa': [(0, 20), (10, 20), (20, 30), (30, 40), (40, 50)],\n",
        "    'Europe': [(-35, 140), (-30, 145), (-25, 150), (-20, 155), (-15, 160)]\n",
        "}\n"
      ],
      "metadata": {
        "id": "ds7OGt8jOaR_"
      },
      "execution_count": 2,
      "outputs": []
    },
    {
      "cell_type": "code",
      "source": [
        "\n",
        "#@title Defining a Grid of Points\n",
        "\n",
        "# Create a grid of points with latitude ranging from -90 to 90 and longitude\n",
        "# from -180 to 180 in steps of 10.\n",
        "\n",
        "grid_points = [(x, y) for x in range(-90, 91, 10) for y in range(-180, 181, 10)]"
      ],
      "metadata": {
        "id": "d0yzJKM8OdwG"
      },
      "execution_count": 3,
      "outputs": []
    },
    {
      "cell_type": "code",
      "source": [
        "#@title Calculating Prior Probabilities\n",
        "\n",
        "# This function calculates the prior probabilities of a point being land or sea based on\n",
        "# the number of land points versus the total points.\n",
        "\n",
        "def calculate_prior_probabilities(land_points, total_points):\n",
        "    P_land = sum(len(points) for points in land_points.values()) / total_points\n",
        "    P_sea = 1 - P_land\n",
        "\n",
        "    return P_land, P_sea"
      ],
      "metadata": {
        "id": "6cf1mnzJOg3Z"
      },
      "execution_count": 4,
      "outputs": []
    },
    {
      "cell_type": "code",
      "source": [
        "#@title Calculating Likelihoods\n",
        "\n",
        "# This function calculates the likelihoods of points being land or sea based on their distances\n",
        "# to the nearest land point.\n",
        "\n",
        "# The likelihood decreases exponentially with increasing distance from land.\n",
        "\n",
        "def calculate_likelihoods(grid_points, land_points):\n",
        "    likelihoods_land = {}\n",
        "    likelihoods_sea = {}\n",
        "\n",
        "    all_land_points = [point for points in land_points.values() for point in points]\n",
        "\n",
        "    for point in grid_points:\n",
        "        distances_to_land = distance.cdist([point], all_land_points, 'euclidean').min()\n",
        "        likelihoods_land[point] = np.exp(-distances_to_land)  # Exponential decay\n",
        "        likelihoods_sea[point] = 1 - likelihoods_land[point]  # Opposite of land\n",
        "\n",
        "    return likelihoods_land, likelihoods_sea\n"
      ],
      "metadata": {
        "id": "gYbsNG3iOneB"
      },
      "execution_count": 5,
      "outputs": []
    },
    {
      "cell_type": "code",
      "source": [
        "#@title Classifying Points\n",
        "\n",
        "# This function classifies a point as land if it lies within the defined bounds of\n",
        "# the \"land model\" box.\n",
        "# Coastline if it's within 10 units of the nearest land point\n",
        "# Or Sea if it does not lie within either a land or coastline point.\n",
        "\n",
        "def classify_point(point, likelihood):\n",
        "    #x_min, x_max, y_min, y_max = box_bounds\n",
        "    all_land_points = [point for points in land_points.values() for point in points]\n",
        "    distances_to_land = distance.cdist([point], all_land_points, 'euclidean').min()\n",
        "    likelihood = np.exp(-distances_to_land)\n",
        "\n",
        "    if likelihood >=0.5:\n",
        "      return 'Land'\n",
        "   # if x_min <= point[0] <= x_max and y_min <= point[1] <= y_max:\n",
        "       # return 'Land'\n",
        "    else:\n",
        "      return 'Sea'"
      ],
      "metadata": {
        "id": "Z6oJhZx6Oo0-"
      },
      "execution_count": 31,
      "outputs": []
    },
    {
      "cell_type": "code",
      "source": [
        "#@title Plotting the Points and Model\n",
        "\n",
        "# This functions plots the land points, test points, and the bounding box of\n",
        "# the land model on a 2D plot.\n",
        "\n",
        "# Function to plot the points and the model\n",
        "def plot_points(land_points, test_points, test_classifications):\n",
        "    fig, ax = plt.subplots()\n",
        "\n",
        "    # Define colors for each continent\n",
        "    continent_colors = {\n",
        "        'South America': 'green',\n",
        "        'Europe': 'gray',\n",
        "        'Asia': 'yellow',\n",
        "        'Africa': 'purple',\n",
        "        'Australia': 'orange'\n",
        "    }\n",
        "\n",
        "    # Plot land points by continent\n",
        "    for continent, points in land_points.items():\n",
        "        land_x, land_y = zip(*points)\n",
        "        ax.scatter(land_x, land_y, color=continent_colors[continent], label=f'{continent}')\n",
        "\n",
        "    # Highlight land model with an orange box\n",
        "    #x_min, x_max, y_min, y_max = box_bounds\n",
        "    #land_model_x = [x_min, x_max, x_max, x_min, x_min]\n",
        "    #land_model_x = [x, x]\n",
        "    #land_model_y = [y_min, y_min, y_max, y_max, y_min]\n",
        "    #land_model_y = [y, y]\n",
        "    #ax.plot(land_model_x, land_model_y, color='black', label='Land Model')\n",
        "\n",
        "    # Plot test points\n",
        "    for point, classification in zip(test_points, test_classifications):\n",
        "        if classification == 'Land': color = 'green'\n",
        "        if classification == 'Sea':  color = 'blue'\n",
        "        if classification == 'Coastline': color = 'brown'\n",
        "\n",
        "        ax.scatter(point[0], point[1], color=color, edgecolors='red', label=f'Test Point ({classification})')\n",
        "\n",
        "    # Place the legend outside the plot box\n",
        "    #ax.legend(bbox_to_anchor=(1.05, 1), loc='upper left')\n",
        "    plt.xlabel('Latitude')\n",
        "    plt.ylabel('Longitude')\n",
        "    plt.title('Land, Sea, & Coastline Points with Model')\n",
        "    plt.grid(False)  # Remove grid\n",
        "    plt.show()\n"
      ],
      "metadata": {
        "id": "J6UFMim2OrB0"
      },
      "execution_count": 32,
      "outputs": []
    },
    {
      "cell_type": "code",
      "source": [
        "#@title Main Execution\n",
        "\n",
        "# This section calculates the total grid points, prior probabilities, likelihoods,\n",
        "# defines the model box, classifies test points, prints the classifications, and\n",
        "# plots the points and the model.\n",
        "\n",
        "# Total points in the grid\n",
        "total_points = len(grid_points)\n",
        "\n",
        "# Calculate prior probabilities\n",
        "P_land, P_sea = calculate_prior_probabilities(land_points, total_points)\n",
        "\n",
        "# Calculate likelihoods\n",
        "likelihoods_land, likelihoods_sea = calculate_likelihoods(grid_points, land_points)\n",
        "\n",
        "# Define the bounds of the model box\n",
        "all_land_x = [point[0] for points in land_points.values() for point in points]\n",
        "all_land_y = [point[1] for points in land_points.values() for point in points]\n",
        "#x_min, x_max = min(all_land_x) - 5, max(all_land_x) + 5\n",
        "#y_min, y_max = min(all_land_y) - 5, max(all_land_y) + 5\n",
        "#box_bounds = (x_min, x_max, y_min, y_max)\n",
        "\n",
        "\n",
        "# Define unknown test cases with mostly land points, a few coastline points,\n",
        "# and fewer sea points.\n",
        "test_points = [\n",
        "    # Land points and fewer sea points\n",
        "    (-20, -40), (20, 75), (30, 85), (50, 50), (-30, 160), (-40, 170), (80, -170), (-55, 150), (-90, -180)\n",
        "]\n",
        "\n",
        "# Classify test points\n",
        "test_classifications = [classify_point(point, likelihoods_land.get(point, 0)) for point in test_points]\n",
        "\n",
        "# Print test point classifications\n",
        "print(\"\\nTest Point Classifications:\")\n",
        "for point, classification in zip(test_points, test_classifications):\n",
        "    print(f\"Point {point}: {classification}\")\n",
        "\n",
        "# Plot the points and the model\n",
        "#plot_points(land_points, test_points, test_classifications, box_bounds)\n",
        "plot_points(land_points, test_points, test_classifications)"
      ],
      "metadata": {
        "colab": {
          "base_uri": "https://localhost:8080/",
          "height": 659
        },
        "id": "G81Q38RlOvsk",
        "outputId": "f3fec906-7ed6-4406-8e37-8ba166795207"
      },
      "execution_count": 35,
      "outputs": [
        {
          "output_type": "stream",
          "name": "stdout",
          "text": [
            "\n",
            "Test Point Classifications:\n",
            "Point (-20, -40): Sea\n",
            "Point (20, 75): Sea\n",
            "Point (30, 85): Sea\n",
            "Point (50, 50): Sea\n",
            "Point (-30, 160): Sea\n",
            "Point (-40, 170): Sea\n",
            "Point (80, -170): Sea\n",
            "Point (-55, 150): Sea\n",
            "Point (-90, -180): Sea\n"
          ]
        },
        {
          "output_type": "display_data",
          "data": {
            "text/plain": [
              "<Figure size 640x480 with 1 Axes>"
            ],
            "image/png": "[encoded data removed]"
          },
          "metadata": {}
        }
      ]
    }
  ]
}